{
 "cells": [
  {
   "cell_type": "code",
   "execution_count": 126,
   "metadata": {},
   "outputs": [],
   "source": [
    "import numpy as np\n",
    "import pandas as pd\n",
    "import matplotlib.pyplot as plt\n",
    "import spacy\n",
    "nlp = spacy.load('en_core_web_sm')\n",
    "from spacy import displacy\n",
    "from spacy.matcher import Matcher, PhraseMatcher"
   ]
  },
  {
   "cell_type": "code",
   "execution_count": 127,
   "metadata": {},
   "outputs": [],
   "source": [
    "keep = ['id','ask', 'bedrooms', 'numRooms', 'title','original_title',\n",
    "'latitude','longitude','zip_muni','studio','one_bedroom','two_bedroom', 'three_bedroom', \n",
    "'four_bedroom','five_bedroom','six_bedroom','seven_bedroom','eight_bedroom',\n",
    "'periodblt', 'roomrent', 'sublet','shortterm', 'shared']"
   ]
  },
  {
   "cell_type": "code",
   "execution_count": 128,
   "metadata": {},
   "outputs": [
    {
     "name": "stderr",
     "output_type": "stream",
     "text": [
      "/Users/kabiroberoi/anaconda3/lib/python3.7/site-packages/IPython/core/interactiveshell.py:3057: DtypeWarning:\n",
      "\n",
      "Columns (0,17,25,26,50) have mixed types. Specify dtype option on import or set low_memory=False.\n",
      "\n"
     ]
    }
   ],
   "source": [
    "df_full = pd.read_csv('listings_unique_NOT-FULL_2018_20191028.csv')"
   ]
  },
  {
   "cell_type": "code",
   "execution_count": 129,
   "metadata": {},
   "outputs": [],
   "source": [
    "df = df_full[keep].copy()"
   ]
  },
  {
   "cell_type": "code",
   "execution_count": 130,
   "metadata": {},
   "outputs": [],
   "source": [
    "#Only Craiglist\n",
    "df_a = df.iloc[15196:139214]\n",
    "df_b = df.iloc[147617:273821]\n",
    "df_c = df.iloc[284924:405947]\n",
    "df_d = df.iloc[408712:]\n",
    "df = pd.concat([df_a,df_b,df_c,df_d])"
   ]
  },
  {
   "cell_type": "markdown",
   "metadata": {},
   "source": [
    "# PhaseMatcher - Keywords"
   ]
  },
  {
   "cell_type": "markdown",
   "metadata": {},
   "source": [
    "### Compiling list of keywords from different data sources"
   ]
  },
  {
   "cell_type": "code",
   "execution_count": 131,
   "metadata": {},
   "outputs": [],
   "source": [
    "words = pd.read_excel('Cambridge_listings_2018_flagged.xlsx', sheet_name='Auto-Skip Phrases')"
   ]
  },
  {
   "cell_type": "code",
   "execution_count": 132,
   "metadata": {},
   "outputs": [],
   "source": [
    "words = words['ROOM AVAILABLE IN'].tolist()"
   ]
  },
  {
   "cell_type": "code",
   "execution_count": 133,
   "metadata": {},
   "outputs": [],
   "source": [
    "words_2 = pd.read_excel('FullListings_2018_Misclassifications.xlsx', sheet_name='keywords')"
   ]
  },
  {
   "cell_type": "code",
   "execution_count": 134,
   "metadata": {},
   "outputs": [],
   "source": [
    "#Extarct keywords from the ones previously used\n",
    "\n",
    "words_mis_camb = []\n",
    "\n",
    "words_c1 = words_2['roomrent'].tolist()\n",
    "words_c2 = words_2['sublet'][:3].tolist()\n",
    "words_c3 = words_2['shortterm'][:1].tolist()\n",
    "words_c4 = words_2['shared'][:3].tolist()\n",
    "\n",
    "all_words = [words_c1,words_c2,words_c3,words_c4]\n",
    "\n",
    "for w in all_words:\n",
    "    words_mis_camb = words_mis_camb+w\n",
    "     "
   ]
  },
  {
   "cell_type": "code",
   "execution_count": 135,
   "metadata": {},
   "outputs": [],
   "source": [
    "#Cleaning keywords\n",
    "words_mis_camb[3] = 'ONE ROOM IN'\n",
    "words_mis_camb[4] = 'ONE BEDROOM IN'\n",
    "words_mis_camb[5] = 'ONE BEDROOM AVAILABLE IN'\n",
    "words_mis_camb[12] = 'ROOMS AVAILABLE IN'\n",
    "words_mis_camb[15] = 'ROOM IN'\n",
    "words_mis_camb[21] = 'BEDROOMS AVAILABLE IN'\n",
    "words_mis_camb[23] = 'BEDROOMS OPEN IN'"
   ]
  },
  {
   "cell_type": "code",
   "execution_count": 136,
   "metadata": {},
   "outputs": [],
   "source": [
    "words2 = pd.DataFrame(words_mis_camb, columns=['words'])"
   ]
  },
  {
   "cell_type": "code",
   "execution_count": 114,
   "metadata": {},
   "outputs": [],
   "source": [
    "# creating a bool series from isin() \n",
    "isnotindf = words2[~words2[\"words\"].isin(words)]\n",
    "isnotindf = isnotindf['words'].tolist()\n",
    "phrase_list = isnotindf + words\n",
    "    "
   ]
  },
  {
   "cell_type": "markdown",
   "metadata": {},
   "source": [
    "### Completed compiling list of keywords"
   ]
  },
  {
   "cell_type": "code",
   "execution_count": 139,
   "metadata": {},
   "outputs": [
    {
     "data": {
      "text/plain": [
       "['ROOM RENT',\n",
       " 'ROOMMATE',\n",
       " 'ROOMIE',\n",
       " 'ONE ROOM IN',\n",
       " 'ONE BEDROOM IN',\n",
       " 'ROOM AVAILABLE IN',\n",
       " 'ONE BEDROOM IN',\n",
       " 'ONE ROOM IN',\n",
       " 'ROOMMATES NEEDED',\n",
       " 'ROOM IN',\n",
       " 'ROOM IN',\n",
       " 'SUBLET',\n",
       " 'SHORT TERM',\n",
       " 'SHARED',\n",
       " 'SHARE',\n",
       " 'ONE BEDROOM AVAILABLE IN',\n",
       " 'PRIVATE ROOM',\n",
       " 'ONE ROOM AVAILABLE',\n",
       " 'FURNISHED BEDROOM',\n",
       " 'APARTMENT SHARING',\n",
       " 'ROOMS AVAILABLE IN',\n",
       " 'ROOMMATES',\n",
       " 'PRIVATE BEDROOM',\n",
       " 'RENTING ROOM',\n",
       " 'MASTER BEDROOM IN',\n",
       " 'BEDROOMS AVAILABLE IN',\n",
       " 'ONE BEDROOM OPEN IN',\n",
       " 'BEDROOMS OPEN IN',\n",
       " 'SUBLEASING',\n",
       " 'SUBLEASE']"
      ]
     },
     "execution_count": 139,
     "metadata": {},
     "output_type": "execute_result"
    }
   ],
   "source": [
    "# Current list of keywords\n",
    "phrase_list "
   ]
  },
  {
   "cell_type": "code",
   "execution_count": 137,
   "metadata": {},
   "outputs": [],
   "source": [
    "def filter_listing(dataframe, keywords):\n",
    "    \n",
    "    '''\n",
    "    Input Parameters: 1) pandas dataframe from which the index \n",
    "                         and title will be extracted \n",
    "                      2) keywords as a list - already compiled a list for reference\n",
    "                      \n",
    "    Output: Returns 1) index of flaggled listing\n",
    "                    2) Keyword found in listing\n",
    "    '''\n",
    "    #Spacy Phraser Object\n",
    "    matcher = PhraseMatcher(nlp.vocab)\n",
    "    \n",
    "    #convert each phrase to a Doc object:\n",
    "    phrase_patterns = [nlp(text) for text in phrase_list]\n",
    "\n",
    "    # Pass each Doc object into matcher (note the use of the asterisk!):\n",
    "    matcher.add('Cambridge_keywords', None, *phrase_patterns)\n",
    "    \n",
    "    all_matches = []\n",
    "    idx_matches = []\n",
    "\n",
    "    # Looping through dataset and instantiating Spacy docuemnt\n",
    "    for x in df.itertuples():\n",
    "        title = (x.title)\n",
    "        idx = x.Index\n",
    "        title = nlp(title)\n",
    "        matches = matcher(title)\n",
    "\n",
    "        #For title object, finding the keywords\n",
    "        for match_id, start, end in matches:\n",
    "            string_id = nlp.vocab.strings[match_id]  \n",
    "            #span = keyword that was matched on\n",
    "            span = title[start:end]  \n",
    "\n",
    "            #Index that should be dropped - flagged\n",
    "            idx_matches.append(idx)\n",
    "            #Keyword that was flagged for that listing\n",
    "            all_matches.append(span.text)\n",
    "            \n",
    "    return idx_matches, all_matches  "
   ]
  },
  {
   "cell_type": "markdown",
   "metadata": {},
   "source": [
    "# Entity Recognition : \n"
   ]
  },
  {
   "cell_type": "code",
   "execution_count": 32,
   "metadata": {
    "scrolled": true
   },
   "outputs": [
    {
     "data": {
      "text/plain": [
       "array([' STUDIO IN GREAT LOCATION GREAT PRICE ',\n",
       "       ' HARVARD PORTER STUDIO RENOVATED HEAT INCLUDED ',\n",
       "       ' STUDIO WENDELL STREET NO FEE PARKING RENT FITNESS CENTER ', ...,\n",
       "       ' AMAZING EIGHT BEDROOM THREE BATH NEAR GALLAGHER PARK ',\n",
       "       ' NINE BEDROOM IN ALLSTON ',\n",
       "       ' HUGE EIGHT BEDROOM THREE BATHROOM OPEN FLOOR PLAN IN BIGHTON '],\n",
       "      dtype=object)"
      ]
     },
     "execution_count": 32,
     "metadata": {},
     "output_type": "execute_result"
    }
   ],
   "source": [
    "df['title'].values"
   ]
  },
  {
   "cell_type": "code",
   "execution_count": 33,
   "metadata": {
    "scrolled": true
   },
   "outputs": [
    {
     "name": "stdout",
     "output_type": "stream",
     "text": [
      "THIRD                                              13 18 ORDINAL \"first\", \"second\", etc.\n",
      "BATHROOM                                           37 45 GPE Countries, cities, states\n",
      "LUXE SEAPORT                                       26 38 GPE Countries, cities, states\n",
      "CAMBRIDGE                                           1 10 GPE Countries, cities, states\n",
      "1499                                               13 17 DATE Absolute or relative dates or periods\n",
      "SEPTEMBER                                           1 10 DATE Absolute or relative dates or periods\n",
      "NORTH END                                          26 35 ORG Companies, agencies, institutions, etc.\n",
      "WEST FOUR BEDROOM                                  21 38 FAC Buildings, airports, highways, bridges, etc.\n",
      "SOMETHING YEAR                                     36 50 EVENT Named hurricanes, battles, wars, sports events, etc.\n",
      "AVAILABLE                                           1 10 GPE Countries, cities, states\n",
      "JUNE                                               11 15 DATE Absolute or relative dates or periods\n",
      "S NEWLY                                            18 25 GPE Countries, cities, states\n",
      "GREAT SIZE APARTMENTS BEAUTIFUL                     1 32 PERSON People, including fictional\n",
      "BEDROOM HEAT                                       20 32 FAC Buildings, airports, highways, bridges, etc.\n",
      "BATH TEN                                           17 25 FAC Buildings, airports, highways, bridges, etc.\n",
      "BEAUTIFUL TWO                                       1 14 FAC Buildings, airports, highways, bridges, etc.\n",
      "BEDROOM JOY                                        15 26 FAC Buildings, airports, highways, bridges, etc.\n",
      "LNDRY                                              73 78 GPE Countries, cities, states\n",
      "BEAUTIFUL THREE BEDROOM                             1 24 FAC Buildings, airports, highways, bridges, etc.\n",
      "HARVARD                                            45 52 ORG Companies, agencies, institutions, etc.\n",
      "JFK                                                48 51 PERSON People, including fictional\n",
      "AIRPORT                                            18 25 ORG Companies, agencies, institutions, etc.\n",
      "LUXURY CAMBRIDGE                                    1 17 GPE Countries, cities, states\n",
      "MIN DAVIS SQUARE                                   45 61 FAC Buildings, airports, highways, bridges, etc.\n",
      "WASHINGTON                                         11 21 GPE Countries, cities, states\n",
      "FIRST                                              13 18 ORDINAL \"first\", \"second\", etc.\n",
      "NICE                                               55 59 ORG Companies, agencies, institutions, etc.\n",
      "BEDROOM W HEAT                                     37 51 ORG Companies, agencies, institutions, etc.\n"
     ]
    }
   ],
   "source": [
    "sample = df.sample(frac= 0.0005)\n",
    "\n",
    "for title in sample['title'].values:\n",
    "    title = nlp(title)\n",
    "    for ent in title.ents:\n",
    "        if ent.label_ != 'CARDINAL':\n",
    "            print(f'{ent.text:{50}} {ent.start_char:{2}} {ent.end_char:{2}} {ent.label_:{1}} {spacy.explain(ent.label_)}')\n",
    "            #displacy.render(sentence,style='ent', jupyter=True)''\n",
    "\n",
    "    "
   ]
  },
  {
   "cell_type": "markdown",
   "metadata": {},
   "source": [
    "## Plan of Action for Entity Recognition/Amentities: \n",
    "### keywords would be better to locate custom entities and find variation in location & price"
   ]
  },
  {
   "cell_type": "code",
   "execution_count": null,
   "metadata": {},
   "outputs": [],
   "source": []
  }
 ],
 "metadata": {
  "kernelspec": {
   "display_name": "Python 3",
   "language": "python",
   "name": "python3"
  },
  "language_info": {
   "codemirror_mode": {
    "name": "ipython",
    "version": 3
   },
   "file_extension": ".py",
   "mimetype": "text/x-python",
   "name": "python",
   "nbconvert_exporter": "python",
   "pygments_lexer": "ipython3",
   "version": "3.7.3"
  }
 },
 "nbformat": 4,
 "nbformat_minor": 2
}
